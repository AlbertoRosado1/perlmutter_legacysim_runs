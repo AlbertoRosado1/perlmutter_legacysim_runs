{
 "cells": [
  {
   "cell_type": "markdown",
   "id": "081f53ef-2d07-4681-87c9-8c480b6de488",
   "metadata": {},
   "source": [
    "Notebook for creating bricklists for using Obiwan/legacysim"
   ]
  },
  {
   "cell_type": "code",
   "execution_count": 1,
   "id": "d24a64d4-b93f-45aa-b9fc-32504ff8b169",
   "metadata": {},
   "outputs": [],
   "source": [
    "import fitsio as ft\n",
    "import numpy as np\n",
    "from glob import glob\n",
    "#/global/cfs/cdirs/desi/survey/catalogs/main/LSS/daily/LSScats/thru220620\n",
    "filename = '/global/cscratch1/sd/arosado/catalogs/Y1/ELG_full_noveto.dat.fits'"
   ]
  },
  {
   "cell_type": "code",
   "execution_count": 2,
   "id": "f802aacc-8c49-4911-af67-babecedea42a",
   "metadata": {},
   "outputs": [],
   "source": [
    "# FITS object of file?\n",
    "h = ft.FITS(filename) \n",
    "#h[1] # useful to verify columns"
   ]
  },
  {
   "cell_type": "code",
   "execution_count": 3,
   "id": "e3ceba80-f789-4d21-9043-8d20f719cfa4",
   "metadata": {},
   "outputs": [],
   "source": [
    "# columns we are interested in using\n",
    "bricknames = h[1]['BRICKNAME'][:]\n",
    "photsys = h[1]['PHOTSYS'][:]"
   ]
  },
  {
   "cell_type": "code",
   "execution_count": 4,
   "id": "a8f4a9c1-0a76-4ec5-8b95-a03e52c1558d",
   "metadata": {},
   "outputs": [
    {
     "name": "stdout",
     "output_type": "stream",
     "text": [
      "20036104 20036104\n"
     ]
    }
   ],
   "source": [
    "# create masks for north and south regions\n",
    "north_mask = (photsys == 'N')\n",
    "south_mask = (photsys == 'S')\n",
    "\n",
    "# apply masks to bricknames column\n",
    "south = bricknames[south_mask]\n",
    "north = bricknames[north_mask]\n",
    "\n",
    "# verify rows are conserved\n",
    "print(north.size + south.size, bricknames.size)"
   ]
  },
  {
   "cell_type": "code",
   "execution_count": 5,
   "id": "b3f564d3-85c7-4f2c-83e4-3f5b2b035c83",
   "metadata": {},
   "outputs": [
    {
     "name": "stdout",
     "output_type": "stream",
     "text": [
      "north: 33843, south: 126459\n"
     ]
    }
   ],
   "source": [
    "# we use np.unique() to avoid repeating bricks\n",
    "north_bricks = np.unique(north)\n",
    "south_bricks = np.unique(south)\n",
    "\n",
    "# check number of bricks for each region\n",
    "print(f'north: {north_bricks.size}, south: {south_bricks.size}')"
   ]
  },
  {
   "cell_type": "markdown",
   "id": "6f07405f-9c22-46f1-848c-5ac4de319aa9",
   "metadata": {},
   "source": [
    "Save to text files for Obiwan/legacysim usage"
   ]
  },
  {
   "cell_type": "code",
   "execution_count": 6,
   "id": "b3388142-0a52-4904-b332-4fccb6c08248",
   "metadata": {},
   "outputs": [],
   "source": [
    "#np.savetxt('bricklist_north.txt', north_bricks, fmt='%s')"
   ]
  },
  {
   "cell_type": "code",
   "execution_count": 7,
   "id": "da475a24-ece6-46b4-9c54-814c0480f80d",
   "metadata": {},
   "outputs": [],
   "source": [
    "#np.savetxt('bricklist_south.txt', south_bricks, fmt='%s')"
   ]
  },
  {
   "cell_type": "code",
   "execution_count": null,
   "id": "ab8ddffe-0cf1-4815-a41a-c5f9d3a2fa33",
   "metadata": {},
   "outputs": [],
   "source": []
  }
 ],
 "metadata": {
  "kernelspec": {
   "display_name": "DESI 21.3",
   "language": "python",
   "name": "desi-21.3"
  },
  "language_info": {
   "codemirror_mode": {
    "name": "ipython",
    "version": 3
   },
   "file_extension": ".py",
   "mimetype": "text/x-python",
   "name": "python",
   "nbconvert_exporter": "python",
   "pygments_lexer": "ipython3",
   "version": "3.8.3"
  }
 },
 "nbformat": 4,
 "nbformat_minor": 5
}
