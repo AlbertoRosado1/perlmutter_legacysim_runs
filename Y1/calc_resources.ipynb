{
 "cells": [
  {
   "cell_type": "markdown",
   "id": "2643b763-9405-4866-a0e0-7e53ab5ba181",
   "metadata": {},
   "source": [
    "To calculate resources needed for submitting a job"
   ]
  },
  {
   "cell_type": "markdown",
   "id": "4c1b952f-4918-4e69-b71d-f0a1bc211cb2",
   "metadata": {},
   "source": [
    "Cori Haswell specs:\n",
    "- 32 cores/node\n",
    "- 64 threads/node\n",
    "- 128 GB/node\n",
    "\n",
    "The maximum bricks per node is 4, so 64/4=16 threads for each brick."
   ]
  },
  {
   "cell_type": "code",
   "execution_count": 9,
   "id": "3a6093c1-c52e-4989-a5c2-fb21b617ccb6",
   "metadata": {},
   "outputs": [
    {
     "name": "stdout",
     "output_type": "stream",
     "text": [
      "number of tasks able to run with 64 nodes: 256.0\n",
      "number of threads used per task: 16\n"
     ]
    }
   ],
   "source": [
    "nodes = 64 #64\n",
    "threads_per_node = 64\n",
    "min_threads = 16 # at least need 16 threads for each brick\n",
    "tasks = nodes * threads_per_node / min_threads\n",
    "print(f'number of tasks able to run with {nodes} nodes: {tasks}')\n",
    "print(f'number of threads used per task: {int(nodes * threads_per_node /tasks)}')"
   ]
  },
  {
   "cell_type": "markdown",
   "id": "66a54716-4d59-419b-a239-80b754c65733",
   "metadata": {},
   "source": [
    "Perlmutter specs:\n",
    "- 128 cores/node\n",
    "- 256 threads/node\n",
    "- 512 Gb/node"
   ]
  },
  {
   "cell_type": "code",
   "execution_count": 13,
   "id": "77ab19e7-52a8-464d-aff2-a98a54e40a50",
   "metadata": {},
   "outputs": [
    {
     "name": "stdout",
     "output_type": "stream",
     "text": [
      "number of tasks able to run with 1 nodes: 16.0\n",
      "number of threads used per task: 16\n"
     ]
    }
   ],
   "source": [
    "nodes = 1\n",
    "threads_per_node = 256\n",
    "min_threads = 16 # at least need 16 threads for each brick\n",
    "tasks = nodes * threads_per_node / min_threads\n",
    "print(f'number of tasks able to run with {nodes} nodes: {tasks}')\n",
    "print(f'number of threads used per task: {int(nodes * threads_per_node /tasks)}')"
   ]
  },
  {
   "cell_type": "code",
   "execution_count": null,
   "id": "ad05695f-34a6-468b-a78f-8a4eecdba7ea",
   "metadata": {},
   "outputs": [],
   "source": []
  },
  {
   "cell_type": "code",
   "execution_count": 1,
   "id": "43b91008-45d2-4600-929a-624bfc76599c",
   "metadata": {},
   "outputs": [],
   "source": [
    "import fitsio as ft"
   ]
  },
  {
   "cell_type": "code",
   "execution_count": 4,
   "id": "45791eb4-8a6c-4b5e-bef1-5334f29b710b",
   "metadata": {},
   "outputs": [],
   "source": [
    "d,h = ft.read('/pscratch/sd/a/arosado/legacysim/dr9/Y1/south/file0_rs0_skip0/injected_1.fits',header=True)"
   ]
  },
  {
   "cell_type": "code",
   "execution_count": 5,
   "id": "79e32891-019e-4747-b65b-5639e34fc598",
   "metadata": {},
   "outputs": [
    {
     "data": {
      "text/plain": [
       "\n",
       "XTENSION= 'BINTABLE'           / binary table extension\n",
       "BITPIX  =                    8 / 8-bit bytes\n",
       "NAXIS   =                    2 / 2-dimensional binary table\n",
       "NAXIS1  =                  185 / width of table in bytes\n",
       "NAXIS2  =             21619984 / number of rows in table\n",
       "PCOUNT  =                    0 / size of special data area\n",
       "GCOUNT  =                    1 / one data group (required keyword)\n",
       "TFIELDS =                   30 / number of fields in each row\n",
       "TTYPE1  = 'bx'                 / label for field   1\n",
       "TFORM1  = 'D'                  / data format of field: 8-byte DOUBLE\n",
       "TTYPE2  = 'by'                 / label for field   2\n",
       "TFORM2  = 'D'                  / data format of field: 8-byte DOUBLE\n",
       "TTYPE3  = 'ra'                 / label for field   3\n",
       "TFORM3  = 'D'                  / data format of field: 8-byte DOUBLE\n",
       "TTYPE4  = 'dec'                / label for field   4\n",
       "TFORM4  = 'D'                  / data format of field: 8-byte DOUBLE\n",
       "TTYPE5  = 'id'                 / label for field   5\n",
       "TFORM5  = 'K'                  / data format of field: 8-byte INTEGER\n",
       "TTYPE6  = 'brickname'          / label for field   6\n",
       "TFORM6  = '8A'                 / data format of field: ASCII Character\n",
       "TTYPE7  = 'photsys'            / label for field   7\n",
       "TFORM7  = '1A'                 / data format of field: ASCII Character\n",
       "TTYPE8  = 'objid'              / label for field   8\n",
       "TFORM8  = 'J'                  / data format of field: 4-byte INTEGER\n",
       "TTYPE9  = 'g'                  / label for field   9\n",
       "TFORM9  = 'E'                  / data format of field: 4-byte REAL\n",
       "TTYPE10 = 'r'                  / label for field  10\n",
       "TFORM10 = 'E'                  / data format of field: 4-byte REAL\n",
       "TTYPE11 = 'z'                  / label for field  11\n",
       "TFORM11 = 'E'                  / data format of field: 4-byte REAL\n",
       "TTYPE12 = 'gfiber'             / label for field  12\n",
       "TFORM12 = 'E'                  / data format of field: 4-byte REAL\n",
       "TTYPE13 = 'rfiber'             / label for field  13\n",
       "TFORM13 = 'E'                  / data format of field: 4-byte REAL\n",
       "TTYPE14 = 'zfiber'             / label for field  14\n",
       "TFORM14 = 'E'                  / data format of field: 4-byte REAL\n",
       "TTYPE15 = 'shape_r'            / label for field  15\n",
       "TFORM15 = 'E'                  / data format of field: 4-byte REAL\n",
       "TTYPE16 = 'sersic'             / label for field  16\n",
       "TFORM16 = 'E'                  / data format of field: 4-byte REAL\n",
       "TTYPE17 = 'shape_ba'           / label for field  17\n",
       "TFORM17 = 'E'                  / data format of field: 4-byte REAL\n",
       "TTYPE18 = 'shape_phi'          / label for field  18\n",
       "TFORM18 = 'D'                  / data format of field: 8-byte DOUBLE\n",
       "TTYPE19 = 'hsc_object_id'      / label for field  19\n",
       "TFORM19 = 'K'                  / data format of field: 8-byte INTEGER\n",
       "TTYPE20 = 'hsc_demp_photoz_best' / label for field  20\n",
       "TFORM20 = 'E'                  / data format of field: 4-byte REAL\n",
       "TTYPE21 = 'hsc_mizuki_photoz_best' / label for field  21\n",
       "TFORM21 = 'E'                  / data format of field: 4-byte REAL\n",
       "TTYPE22 = 'mw_transmission_g'  / label for field  22\n",
       "TFORM22 = 'D'                  / data format of field: 8-byte DOUBLE\n",
       "TTYPE23 = 'flux_g'             / label for field  23\n",
       "TFORM23 = 'D'                  / data format of field: 8-byte DOUBLE\n",
       "TTYPE24 = 'mw_transmission_r'  / label for field  24\n",
       "TFORM24 = 'D'                  / data format of field: 8-byte DOUBLE\n",
       "TTYPE25 = 'flux_r'             / label for field  25\n",
       "TFORM25 = 'D'                  / data format of field: 8-byte DOUBLE\n",
       "TTYPE26 = 'mw_transmission_z'  / label for field  26\n",
       "TFORM26 = 'D'                  / data format of field: 8-byte DOUBLE\n",
       "TTYPE27 = 'flux_z'             / label for field  27\n",
       "TFORM27 = 'D'                  / data format of field: 8-byte DOUBLE\n",
       "TTYPE28 = 'shape_e1'           / label for field  28\n",
       "TFORM28 = 'D'                  / data format of field: 8-byte DOUBLE\n",
       "TTYPE29 = 'shape_e2'           / label for field  29\n",
       "TFORM29 = 'D'                  / data format of field: 8-byte DOUBLE\n",
       "TTYPE30 = 'seed'               / label for field  30\n",
       "TFORM30 = 'K'                  / data format of field: 8-byte INTEGER"
      ]
     },
     "execution_count": 5,
     "metadata": {},
     "output_type": "execute_result"
    }
   ],
   "source": [
    "h"
   ]
  },
  {
   "cell_type": "code",
   "execution_count": null,
   "id": "a501e836-58f5-447a-a0c1-8ed52bd0248e",
   "metadata": {},
   "outputs": [],
   "source": []
  }
 ],
 "metadata": {
  "kernelspec": {
   "display_name": "regressis",
   "language": "python",
   "name": "regressis"
  },
  "language_info": {
   "codemirror_mode": {
    "name": "ipython",
    "version": 3
   },
   "file_extension": ".py",
   "mimetype": "text/x-python",
   "name": "python",
   "nbconvert_exporter": "python",
   "pygments_lexer": "ipython3",
   "version": "3.8.13"
  }
 },
 "nbformat": 4,
 "nbformat_minor": 5
}
