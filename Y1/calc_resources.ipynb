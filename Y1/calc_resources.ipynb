{
 "cells": [
  {
   "cell_type": "markdown",
   "id": "2643b763-9405-4866-a0e0-7e53ab5ba181",
   "metadata": {},
   "source": [
    "To calculate resources needed for submitting a job"
   ]
  },
  {
   "cell_type": "markdown",
   "id": "4c1b952f-4918-4e69-b71d-f0a1bc211cb2",
   "metadata": {},
   "source": [
    "Cori Haswell specs:\n",
    "- 32 cores/node\n",
    "- 64 threads/node\n",
    "- 128 GB/node\n",
    "\n",
    "The maximum bricks per node is 4, so 64/4=16 threads for each brick."
   ]
  },
  {
   "cell_type": "code",
   "execution_count": 9,
   "id": "3a6093c1-c52e-4989-a5c2-fb21b617ccb6",
   "metadata": {},
   "outputs": [
    {
     "name": "stdout",
     "output_type": "stream",
     "text": [
      "number of tasks able to run with 64 nodes: 256.0\n",
      "number of threads used per task: 16\n"
     ]
    }
   ],
   "source": [
    "nodes = 64 #64\n",
    "threads_per_node = 64\n",
    "min_threads = 16 # at least need 16 threads for each brick\n",
    "tasks = nodes * threads_per_node / min_threads\n",
    "print(f'number of tasks able to run with {nodes} nodes: {tasks}')\n",
    "print(f'number of threads used per task: {int(nodes * threads_per_node /tasks)}')"
   ]
  },
  {
   "cell_type": "markdown",
   "id": "66a54716-4d59-419b-a239-80b754c65733",
   "metadata": {},
   "source": [
    "Perlmutter specs:\n",
    "- 128 cores/node\n",
    "- 256 threads/node\n",
    "- 512 Gb/node"
   ]
  },
  {
   "cell_type": "code",
   "execution_count": 13,
   "id": "77ab19e7-52a8-464d-aff2-a98a54e40a50",
   "metadata": {},
   "outputs": [
    {
     "name": "stdout",
     "output_type": "stream",
     "text": [
      "number of tasks able to run with 1 nodes: 16.0\n",
      "number of threads used per task: 16\n"
     ]
    }
   ],
   "source": [
    "nodes = 1\n",
    "threads_per_node = 256\n",
    "min_threads = 16 # at least need 16 threads for each brick\n",
    "tasks = nodes * threads_per_node / min_threads\n",
    "print(f'number of tasks able to run with {nodes} nodes: {tasks}')\n",
    "print(f'number of threads used per task: {int(nodes * threads_per_node /tasks)}')"
   ]
  },
  {
   "cell_type": "code",
   "execution_count": 11,
   "id": "861d8480-2b71-4518-8fd5-c126ffc405f8",
   "metadata": {},
   "outputs": [
    {
     "data": {
      "text/plain": [
       "34.654"
      ]
     },
     "execution_count": 11,
     "metadata": {},
     "output_type": "execute_result"
    }
   ],
   "source": [
    "17327/500"
   ]
  },
  {
   "cell_type": "code",
   "execution_count": 3,
   "id": "fc5c59d8-be44-46e3-9c86-3ade4403705d",
   "metadata": {},
   "outputs": [
    {
     "data": {
      "text/plain": [
       "187"
      ]
     },
     "execution_count": 3,
     "metadata": {},
     "output_type": "execute_result"
    }
   ],
   "source": [
    "int(6000/32)"
   ]
  },
  {
   "cell_type": "code",
   "execution_count": 1,
   "id": "2efc4534-1219-4b33-a5d6-8c082180619e",
   "metadata": {},
   "outputs": [
    {
     "data": {
      "text/plain": [
       "0"
      ]
     },
     "execution_count": 1,
     "metadata": {},
     "output_type": "execute_result"
    }
   ],
   "source": [
    "len([])"
   ]
  },
  {
   "cell_type": "code",
   "execution_count": null,
   "id": "96d61a05-5e31-43fe-9f99-b1588f8011d8",
   "metadata": {},
   "outputs": [],
   "source": []
  }
 ],
 "metadata": {
  "kernelspec": {
   "display_name": "Dask (Experimental)",
   "language": "python",
   "name": "dask-dev"
  },
  "language_info": {
   "codemirror_mode": {
    "name": "ipython",
    "version": 3
   },
   "file_extension": ".py",
   "mimetype": "text/x-python",
   "name": "python",
   "nbconvert_exporter": "python",
   "pygments_lexer": "ipython3",
   "version": "3.9.7"
  }
 },
 "nbformat": 4,
 "nbformat_minor": 5
}
