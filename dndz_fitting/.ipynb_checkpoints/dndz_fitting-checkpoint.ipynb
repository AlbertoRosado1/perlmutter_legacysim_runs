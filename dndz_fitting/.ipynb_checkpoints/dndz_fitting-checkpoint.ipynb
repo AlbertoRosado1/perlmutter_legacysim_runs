{
 "cells": [
  {
   "cell_type": "code",
   "execution_count": 1,
   "id": "6b1911c0-439e-4546-95cd-e272c0eb822e",
   "metadata": {},
   "outputs": [],
   "source": [
    "%load_ext autoreload\n",
    "%autoreload 2"
   ]
  },
  {
   "cell_type": "code",
   "execution_count": 2,
   "id": "772f08ce-dadc-4617-a845-54e7caee7f46",
   "metadata": {},
   "outputs": [],
   "source": [
    "import sys\n",
    "sys.path.append(\"global/homes/a/arosado/perlmutter_legacysim_runs/dndz_fitting/\")\n",
    "from dndz_fit import ELG_dndz"
   ]
  },
  {
   "cell_type": "code",
   "execution_count": 3,
   "id": "c22d0a27-7966-402f-81d7-63236113942e",
   "metadata": {},
   "outputs": [],
   "source": [
    "from astropy.table import Table\n",
    "import os\n",
    "import numpy as np\n",
    "import matplotlib.pyplot as plt\n",
    "import scipy.special as sp"
   ]
  },
  {
   "cell_type": "code",
   "execution_count": 4,
   "id": "db3a5c81-f0b3-4ca0-bc0f-c4a59248f8ab",
   "metadata": {},
   "outputs": [],
   "source": [
    "#base_dir = \"/global/cfs/cdirs/desi/survey/catalogs/Y1/LSS/himalayas/LSScats/test/\"\n",
    "#data_fn = os.path.join(base_dir, 'ELG_full.dat.fits')\n",
    "plot_dir = 'plots/'"
   ]
  },
  {
   "cell_type": "code",
   "execution_count": null,
   "id": "ae4778d6-f75c-4089-b189-4e00522871f3",
   "metadata": {},
   "outputs": [],
   "source": [
    "%%time \n",
    "run = 'north'\n",
    "data_fn = f\"/pscratch/sd/a/arosado/legacysim_masked_ELG_data/data_{run}.fits\"\n",
    "depth_type_fit = 'GALDEPTH_G' # depth used for fitting model to legacysim data\n",
    "bins = 50\n",
    "test = ELG_dndz(data_fn, run=run, bins=bins, depth_type=depth_type_fit)"
   ]
  },
  {
   "cell_type": "code",
   "execution_count": null,
   "id": "b8501431-b9c8-45d1-be18-bbc8b184fdcb",
   "metadata": {},
   "outputs": [],
   "source": [
    "fig = plt.gcf()\n",
    "fig.set_size_inches(7, 5)\n",
    "\n",
    "params = test.params\n",
    "print(params)\n",
    "dndz = test.dndz_model((test.z_h, test.depth_h),*params)\n",
    "plt.ylabel('relative change in n(z)', fontsize=14)\n",
    "plt.xlabel('redshift', fontsize=14)\n",
    "\n",
    "bins=test.bins-1\n",
    "kw= dict(color='k', alpha=0.5)\n",
    "plt.plot([],[], label=f'model',color='r')\n",
    "plt.errorbar([],[],yerr=[], label=f'legacysim data $\\pm$ error',**kw)\n",
    "for ite in range(10):\n",
    "    i, j = (bins)*ite, (bins)*(ite+1)\n",
    "    plt.plot(test.z_h[i:j], dndz[i:j], color='r')\n",
    "    plt.errorbar(test.z_h[i:j], test.dndz_h[i:j], yerr=test.yerr[i:j], **kw)\n",
    "plt.legend()#fontsize=16)\n",
    "plt.title(f'Broken linear fit to legacysim data {run} ({depth_type_fit})', fontsize=18)\n",
    "#plt.savefig(f'{plot_dir}/fit_legacysim_data_{run}_{depth_type_fit}.png', bbox_inches='tight', pad_inches=0.1, dpi=200, facecolor='white')\n",
    "plt.show()"
   ]
  },
  {
   "cell_type": "code",
   "execution_count": null,
   "id": "c4b1efad-58cc-4124-ada0-ae7141cc4b80",
   "metadata": {},
   "outputs": [],
   "source": [
    "depth_type = depth_type_fit #'GALDEPTH_G'\n",
    "\n",
    "ax = plt.gca()\n",
    "fig = plt.gcf()\n",
    "fig.set_size_inches(7, 5)\n",
    "ax.set_title('{}ern part of Y1, {}'.format(run.capitalize(),'ELG')+f' legacysim data (using {depth_type_fit} for fit)')#, fontsize=18)\n",
    "\n",
    "ax.plot([], [], linestyle='-', color='k', label='pred weights')\n",
    "ax.plot([], [], linestyle=':', color='k', label='no weights')\n",
    "\n",
    "test.plot_dndz(test.z, test.legacysim[depth_type], depth_type=depth_type, weights=test.sim_weights, ls='-', legend=True)\n",
    "plt.ylabel('relative change in n(z)', fontsize=14)\n",
    "plt.xlabel('redshift', fontsize=14)\n",
    "#plt.ylim(-0.5,0.9)\n",
    "test.plot_dndz(test.z, test.legacysim[depth_type], depth_type=depth_type, weights=None, ls=':')\n",
    "ax.grid(True)\n",
    "#plt.savefig(f'{plot_dir}/legacysim_data_{run}_{depth_type_fit}.png', bbox_inches='tight', pad_inches=0.1, dpi=200, facecolor='white')\n",
    "plt.show()"
   ]
  },
  {
   "cell_type": "code",
   "execution_count": null,
   "id": "29778ca0-9819-4fd7-a98a-ac5a410ffa80",
   "metadata": {},
   "outputs": [],
   "source": [
    "depth_type = depth_type_fit #'GALDEPTH_G'\n",
    "\n",
    "ax = plt.gca()\n",
    "fig = plt.gcf()\n",
    "fig.set_size_inches(7, 5)\n",
    "ax.set_title('{}ern part of Y1, {}'.format(run.capitalize(),'ELG')+f' data (using {depth_type_fit} for fit)')#, fontsize=18)\n",
    "\n",
    "ax.plot([], [], linestyle='-', color='k', label='pred weights')\n",
    "ax.plot([], [], linestyle=':', color='k', label='no weights')\n",
    "\n",
    "test.plot_dndz(test.z_cat, test.cat[depth_type], depth_type=depth_type, weights=test.new_weights*test.weights_cat, ls='-', legend=True)#, yerr=True)\n",
    "plt.ylabel('relative change in n(z)', fontsize=14)\n",
    "plt.xlabel('redshift', fontsize=14)\n",
    "#plt.ylim(-0.5,0.9)\n",
    "test.plot_dndz(test.z_cat, test.cat[depth_type],  depth_type=depth_type, weights=test.weights_cat, ls=':')\n",
    "ax.grid(True)\n",
    "#plt.savefig(f'{plot_dir}/ELG_data_{run}_{depth_type}_bin{bins}.png', bbox_inches='tight', pad_inches=0.1, dpi=200, facecolor='white')\n",
    "plt.show()"
   ]
  },
  {
   "cell_type": "code",
   "execution_count": null,
   "id": "7f22a1ff-addc-4be4-b394-48d45bff9b45",
   "metadata": {},
   "outputs": [],
   "source": [
    "depth_type = depth_type_fit #'GALDEPTH_G'\n",
    "quantiles = np.quantile(test.legacysim[depth_type], q=np.linspace(0., 1., 6)) # used because data have different depth range fro legacysim data?\n",
    "\n",
    "ax = plt.gca()\n",
    "fig = plt.gcf()\n",
    "fig.set_size_inches(7, 5)\n",
    "ax.set_title(f'{run.capitalize()}ern part of Y1 ELG')#, fontsize=18)\n",
    "\n",
    "ax.plot([], [], linestyle='-', color='k', label='ELG data')\n",
    "ax.plot([], [], linestyle='--', color='k', label='legacysim data')\n",
    "\n",
    "test.plot_dndz(test.z, test.legacysim[depth_type], depth_type=depth_type, quantiles=quantiles, weights=None, ls='--')\n",
    "plt.ylabel('relative change in n(z)', fontsize=14)\n",
    "plt.xlabel('redshift', fontsize=14)\n",
    "#plt.ylim(-0.5,0.9)\n",
    "test.plot_dndz(test.z_cat, test.cat[depth_type],  depth_type=depth_type, quantiles=quantiles, weights=test.weights_cat, ls='-',legend=True)\n",
    "ax.grid(True)\n",
    "#plt.savefig(f'{plot_dir}/dndz_ELG_{run}_{depth_type}.png', bbox_inches='tight', pad_inches=0.1, dpi=200, facecolor='white')\n",
    "plt.show()"
   ]
  },
  {
   "cell_type": "markdown",
   "id": "4188f9d7-dc55-4d65-8fb1-e0e795578a01",
   "metadata": {
    "tags": []
   },
   "source": [
    "# Checks"
   ]
  },
  {
   "cell_type": "code",
   "execution_count": null,
   "id": "e9181b3e-a2df-46f5-99d3-14866840684d",
   "metadata": {},
   "outputs": [],
   "source": [
    "wmin, wmax = 0.0, 2.0 # min and max weight\n",
    "print(f'total: {test.new_weights.size}')\n",
    "print(f'weights less than {wmin}: {test.new_weights[test.new_weights < wmin].size}')\n",
    "print(f'{test.new_weights[test.new_weights < wmin].size/test.new_weights.size*100:.3f}%')\n",
    "print(f'weights greater than {wmax}: {test.new_weights[test.new_weights > wmax].size}')\n",
    "print(f'{test.new_weights[test.new_weights > wmax].size/test.new_weights.size*100:.3f}%')"
   ]
  },
  {
   "cell_type": "code",
   "execution_count": null,
   "id": "6572e1ee-d911-4c1a-8eb2-f6d0b760b3b9",
   "metadata": {},
   "outputs": [],
   "source": [
    "dmin, dmax = -1.0, 1.0 # min and max [dndz - 1]\n",
    "print(f'total: {test.dndz_vals.size}')\n",
    "print(f'[dndz - 1] less than {dmin}: {test.dndz_vals[test.dndz_vals < dmin].size}')\n",
    "print(f'{test.dndz_vals[test.dndz_vals < dmin].size/test.dndz_vals.size*100:.3f}%')\n",
    "print(f'[dndz - 1] greater than {dmax}: {test.dndz_vals[test.dndz_vals > dmax].size}')\n",
    "print(f'{test.dndz_vals[test.dndz_vals > dmax].size/test.dndz_vals.size*100:.3f}%')"
   ]
  },
  {
   "cell_type": "code",
   "execution_count": null,
   "id": "e5ce7684-cd64-4138-9d42-1f0f18497e72",
   "metadata": {},
   "outputs": [],
   "source": [
    "# function used to model depth dependence portion\n",
    "a,b,c,d,e,f,g = test.params\n",
    "print(test.params)\n",
    "depth = np.arange(1.5,3.5,0.1)\n",
    "print(depth)\n",
    "fun = (d*sp.erf(depth/e+f) + g) \n",
    "plt.plot(depth, fun)\n",
    "plt.show()"
   ]
  },
  {
   "cell_type": "code",
   "execution_count": null,
   "id": "adf4c544-3003-4326-ab8c-a3eb1727df21",
   "metadata": {},
   "outputs": [],
   "source": [
    "# Here we see how weights increase with increasing depth\n",
    "#fig = plt.figure(figsize=(10,8))\n",
    "sc = plt.scatter(test.z_cat,np.log10(test.depth_cat),c=test.new_weights.clip(0.0,2.0), s=1)\n",
    "plt.xlim(0.6,0.8)\n",
    "plt.colorbar(sc)\n",
    "plt.show()"
   ]
  },
  {
   "cell_type": "code",
   "execution_count": null,
   "id": "948dbdbe-7055-426e-b34f-77b234ce774f",
   "metadata": {},
   "outputs": [],
   "source": []
  }
 ],
 "metadata": {
  "kernelspec": {
   "display_name": "python (sysnet)",
   "language": "python",
   "name": "sysnet"
  },
  "language_info": {
   "codemirror_mode": {
    "name": "ipython",
    "version": 3
   },
   "file_extension": ".py",
   "mimetype": "text/x-python",
   "name": "python",
   "nbconvert_exporter": "python",
   "pygments_lexer": "ipython3",
   "version": "3.8.13"
  }
 },
 "nbformat": 4,
 "nbformat_minor": 5
}
